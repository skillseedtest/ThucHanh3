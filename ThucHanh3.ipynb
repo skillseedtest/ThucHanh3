{
 "cells": [
  {
   "cell_type": "code",
   "execution_count": null,
   "id": "8fb61f0a",
   "metadata": {},
   "outputs": [],
   "source": [
    "# Viết một chương trình nhập vào một số nguyên n và in ra các chữ số đảo ngược nhau.\n",
    "\n",
    "a=input().strip()\n",
    "print(a[::-1])"
   ]
  },
  {
   "cell_type": "code",
   "execution_count": null,
   "id": "86860304",
   "metadata": {},
   "outputs": [],
   "source": [
    "# Hoán đổi hai số không sd biến tạm thời. Sử dụng phép toán XOR bitwise để hoán đổi giá trị của hai biến.\n",
    "\n",
    "a,b=map(int,input().split())\n",
    "a=a^b\n",
    "b=a^b\n",
    "a=a^b\n",
    "print(a,b)"
   ]
  },
  {
   "cell_type": "code",
   "execution_count": null,
   "id": "d48cf8ac",
   "metadata": {},
   "outputs": [],
   "source": [
    "# Kiểm tra xem một số có phải là lũy thừa của 2 hay không\n",
    "# Sử dụng các toán tử bitwise để xác định xem một số có phải là lũy thừa của 2 hay không.\n",
    "# Gợi ý: Đối với lũy thừa của 2, n & (n-1) == 0 print True / False\n",
    "\n",
    "a=int(input())\n",
    "if a&(a-1)==0:\n",
    "    print(True)\n",
    "else:\n",
    "    print(False)"
   ]
  },
  {
   "cell_type": "code",
   "execution_count": null,
   "id": "2b6052e0",
   "metadata": {},
   "outputs": [],
   "source": [
    "# viêt chương trình chia một số m cho n, kết quả thu được làm tròn xuống\n",
    "\n",
    "m,n=map(int,input().split())\n",
    "print(m//n)"
   ]
  },
  {
   "cell_type": "code",
   "execution_count": null,
   "id": "554d5394",
   "metadata": {},
   "outputs": [],
   "source": [
    "# viêt chương trình chia một số m cho n, kết quả thu được làm tròn lên\n",
    "\n",
    "m,n=map(int,input().split())\n",
    "print(m//n+1)"
   ]
  },
  {
   "cell_type": "code",
   "execution_count": null,
   "id": "6f26a9f8",
   "metadata": {},
   "outputs": [],
   "source": [
    "# Nhập vào một số nguyên dương x, bạn hãy kiểm tra xem x là số chẵn hay lẻ. Nếu x là số chẵn, in ra \"Even\". Nếu x là số lẻ, in ra \"Odd\". \n",
    "\n",
    "x=int(input())\n",
    "if x%2==0:\n",
    "    print(\"Even\")\n",
    "else:\n",
    "    print(\"Odd\")"
   ]
  },
  {
   "cell_type": "code",
   "execution_count": null,
   "id": "a621d768",
   "metadata": {},
   "outputs": [],
   "source": [
    "# Nhập vào hai số nguyên a, b. Nếu cả hai số a, b đều âm thì in ra \"Yes\", ngược lại in ra \"No\".\n",
    "\n",
    "a=int(input())\n",
    "b=int(input())\n",
    "if a<0 and b<0:\n",
    "    print(\"Yes\")\n",
    "else:\n",
    "    print(\"No\")"
   ]
  },
  {
   "cell_type": "code",
   "execution_count": null,
   "id": "78c1786d",
   "metadata": {},
   "outputs": [],
   "source": [
    "# Nhập vào hai chuỗi a, b gồm các chữ cái thường. In ra \"True\" nếu chuỗi a dài hơn chuỗi b. Ngược lại in ra \"False\".\n",
    "\n",
    "a=str(input())\n",
    "b=str(input())\n",
    "if len(a)>len(b):\n",
    "    print(\"True\")\n",
    "else:\n",
    "    print(\"False\")"
   ]
  },
  {
   "cell_type": "code",
   "execution_count": null,
   "id": "09816f2a",
   "metadata": {},
   "outputs": [],
   "source": [
    "# Nhập vào 3 số nguyên dương a, b, c. Kiểm tra xem a, b, c có cấu thành độ dài cạnh của 1 tam giác được không. Nếu a, b, c cấu tạo thành được một tam giác, in ra \"Yes\". Ngược lại in ra \"No\".\n",
    "\n",
    "a=int(input())\n",
    "b=int(input())\n",
    "c=int(input())\n",
    "if a+b>c and a+c>b and b+c>a:\n",
    "    print(\"Yes\")\n",
    "else:\n",
    "    print(\"No\")"
   ]
  },
  {
   "cell_type": "code",
   "execution_count": null,
   "id": "e8401a30",
   "metadata": {},
   "outputs": [],
   "source": [
    "# Nhập vào 4 số nguyên. In ra màn hình số nguyên lớn nhất trong 4 số.\n",
    "\n",
    "a=int(input())\n",
    "b=int(input())\n",
    "c=int(input())\n",
    "d=int(input())\n",
    "print(max(a,b,c,d))"
   ]
  },
  {
   "cell_type": "code",
   "execution_count": null,
   "id": "ee69290b",
   "metadata": {},
   "outputs": [],
   "source": [
    "# Nhập vào 3 số nguyên dương a,b,c là độ dài 3 cạnh của một tam giác. Kiểm tra 3 số đã nhập có tạo thành một tam giác hợp lệ hay không. Nếu không in ra \"Không phải tam giác\". Nếu có, phân loại tam giác đó là \"Tam giác đều\", \"Tam giác cân\", hay \"Tam giác thường\".\n",
    "\n",
    "a,b,c=map(int,input().split())\n",
    "if a+b>c and a+c>b and b+c>a:\n",
    "    if a==b==c:\n",
    "        print(\"Tam giác đều\")\n",
    "    elif a==b or b==c or a==c:\n",
    "        print(\"Tam giác cân\")\n",
    "    else:\n",
    "        print(\"Tam giác thường\")\n",
    "else:\n",
    "    print(\"Không phải tam giác\")"
   ]
  },
  {
   "cell_type": "code",
   "execution_count": null,
   "id": "fbe5c74f",
   "metadata": {},
   "outputs": [],
   "source": [
    "# Nhập vào một số nguyên dương n là số năm, kiểm tra xem năm đó có phải là năm nhuận hay không. Năm nhuận là năm chia hết cho 4 nhưng không chia hết cho 100, hoặc chia hết cho 400. Nếu là năm nhuận in ra \"Yes\", nếu không in ra \"No\"\n",
    "\n",
    "a=int(input())\n",
    "if (a%4==0 and a%100!=0) or (a%400==0):\n",
    "    print(\"Yes\")\n",
    "else:\n",
    "    print(\"No\")"
   ]
  },
  {
   "cell_type": "code",
   "execution_count": null,
   "id": "4d5ef74d",
   "metadata": {},
   "outputs": [],
   "source": [
    "# Nhập vào số kWh điện tiêu thụ. Tính tiền điện theo các bậc sau:\n",
    "# - 0-50 kWh: 1500đ/kWh\n",
    "# - 51-100 kWh: 2000đ/kWh\n",
    "# - 100 kWh: 3000đ/kWh\n",
    "\n",
    "a=int(input())\n",
    "if a<=50:\n",
    "    print(a*1500)\n",
    "elif a<=100:\n",
    "    print(50*1500+(a-50)*2000)\n",
    "else:\n",
    "    print(50*1500+50*2000+(a-100)*3000)"
   ]
  },
  {
   "cell_type": "code",
   "execution_count": null,
   "id": "3dcf19e1",
   "metadata": {},
   "outputs": [],
   "source": [
    "# Nhập vào hai số thực a và b của phương trình ax + b = 0. Tìm và in ra nghiệm của phương trình, kết quả làm tròn đến số thập phân thứ 2. In ra \"Vô nghiệm\" hoặc \"Vô số nghiệm\" trong trường hợp tương ứng.\n",
    "\n",
    "a=float(input())\n",
    "b=float(input())\n",
    "if a==0 and b==0:\n",
    "    print(\"Vô số nghiệm\")\n",
    "elif a==0 and b!=0:\n",
    "    print(\"Vô nghiệm\")\n",
    "else:\n",
    "    print(round(-b/a,2))"
   ]
  },
  {
   "cell_type": "code",
   "execution_count": null,
   "id": "ad026cbe",
   "metadata": {},
   "outputs": [],
   "source": [
    "# Nhập vào điểm trung bình của một học sinh và in ra học lực của học sinh đó. Xếp loại học lực theo quy tắc:\n",
    "# - >= 8.0: Giỏi\n",
    "# - >= 6.5: Khá\n",
    "# - >= 5.0: Trung bình\n",
    "# - < 5.0: Yếu\n",
    "\n",
    "a=float(input())\n",
    "if a>=8.0:\n",
    "    print(\"Giỏi\")\n",
    "elif a>=6.5:\n",
    "    print(\"Khá\")\n",
    "elif a>=5.0:\n",
    "    print(\"Trung bình\")\n",
    "else:\n",
    "    print(\"Yếu\")"
   ]
  },
  {
   "cell_type": "code",
   "execution_count": null,
   "id": "cf6534c0",
   "metadata": {},
   "outputs": [],
   "source": [
    "# Nhập vào một số thực: in ra kết quả làm tròn lên ,tròn xuống, làm tròn tới số nguyên gần nhất (không được sử dụng hàm sẵn có của pyton). Các kết quả cách nhau một dấu cách\n",
    "\n",
    "a=float(input())\n",
    "a1=int(a)\n",
    "tp=abs(a-a1)\n",
    "if a>0:\n",
    "    if tp<0.5:\n",
    "        print(a1+1,a1,a1)\n",
    "    else:\n",
    "        print(a1+1,a1,a1+1)\n",
    "else:\n",
    "    if tp<0.5:\n",
    "        print(a1,a1-1,a1)\n",
    "    else:\n",
    "        print(a1,a1-1,a1-1)"
   ]
  },
  {
   "cell_type": "code",
   "execution_count": null,
   "id": "6bfa4bee",
   "metadata": {},
   "outputs": [],
   "source": [
    "# Nhập vào 3 số nguyên dương a,b,c là độ dài 3 cạnh của một tam giác. Kiểm tra 3 số đã nhập có tạo thành một tam giác hợp lệ hay không. Nếu không in ra \"Không phải tam giác\". Nếu có, phân loại tam giác đó là \"Tam giác đều\", \"Tam giác cân\", hay \"Tam giác thường\".\n",
    "\n",
    "a,b,c=map(int,input().split())\n",
    "if a+b>c and a+c>b and b+c>a:\n",
    "    if a==b==c:\n",
    "        print(\"Tam giác đều\")\n",
    "    elif a==b or b==c or a==c:\n",
    "        print(\"Tam giác cân\")\n",
    "    else:\n",
    "        print(\"Tam giác thường\")\n",
    "else:\n",
    "    print(\"Không phải tam giác\")"
   ]
  }
 ],
 "metadata": {
  "kernelspec": {
   "display_name": "Python 3",
   "language": "python",
   "name": "python3"
  },
  "language_info": {
   "codemirror_mode": {
    "name": "ipython",
    "version": 3
   },
   "file_extension": ".py",
   "mimetype": "text/x-python",
   "name": "python",
   "nbconvert_exporter": "python",
   "pygments_lexer": "ipython3",
   "version": "3.11.9"
  }
 },
 "nbformat": 4,
 "nbformat_minor": 5
}
