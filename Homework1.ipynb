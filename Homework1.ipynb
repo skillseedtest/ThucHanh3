{
 "cells": [
  {
   "cell_type": "code",
   "execution_count": 2,
   "id": "a88fedd4",
   "metadata": {},
   "outputs": [
    {
     "name": "stdout",
     "output_type": "stream",
     "text": [
      "2\n"
     ]
    }
   ],
   "source": [
    "#1\n",
    "\n",
    "n = int(input())\n",
    "print(n*2)"
   ]
  },
  {
   "cell_type": "code",
   "execution_count": 4,
   "id": "ab22acf5",
   "metadata": {},
   "outputs": [
    {
     "name": "stdout",
     "output_type": "stream",
     "text": [
      "2.86\n"
     ]
    }
   ],
   "source": [
    "#2\n",
    "\n",
    "a=int(input())\n",
    "b=int(input())\n",
    "print(a*b-(3.14*(a/2)**2))\n"
   ]
  },
  {
   "cell_type": "code",
   "execution_count": 8,
   "id": "5b0769c4",
   "metadata": {},
   "outputs": [
    {
     "name": "stdout",
     "output_type": "stream",
     "text": [
      "r\n"
     ]
    }
   ],
   "source": [
    "#3\n",
    "\n",
    "c=str(input())\n",
    "if c == c.upper():\n",
    "    print(c.lower())\n",
    "else:\n",
    "    print(c.upper())"
   ]
  },
  {
   "cell_type": "code",
   "execution_count": 9,
   "id": "67efe671",
   "metadata": {},
   "outputs": [
    {
     "name": "stdout",
     "output_type": "stream",
     "text": [
      "3 ko phai la ki tu alphabet\n"
     ]
    }
   ],
   "source": [
    "#4\n",
    "\n",
    "c=str(input())\n",
    "if c.isalpha():\n",
    "    print(f\"{c} la ki tu alphabet\")\n",
    "else:\n",
    "    print(f\"{c} ko phai la ki tu alphabet\")"
   ]
  },
  {
   "cell_type": "code",
   "execution_count": null,
   "id": "3259261b",
   "metadata": {},
   "outputs": [
    {
     "name": "stdout",
     "output_type": "stream",
     "text": [
      "q\n"
     ]
    }
   ],
   "source": [
    "#5\n",
    "\n",
    "c=str(input()).lower()\n",
    "if c == \"A\" or c == \"a\":\n",
    "    print(\"case dac biet\")\n",
    "elif c.isalpha():\n",
    "    print(chr(ord(c)-1))\n",
    "else:\n",
    "    print(\"ko phai la chu cai\")"
   ]
  },
  {
   "cell_type": "code",
   "execution_count": 20,
   "id": "170a5032",
   "metadata": {},
   "outputs": [
    {
     "name": "stdout",
     "output_type": "stream",
     "text": [
      "khong phai 3 canh cua tam giac\n"
     ]
    }
   ],
   "source": [
    "#6\n",
    "\n",
    "#cong thuc heron\n",
    "\n",
    "a=int(input())\n",
    "b=int(input())\n",
    "c=int(input())\n",
    "if a+b>c and a+c>b and b+c>a:\n",
    "    p=(a+b+c)/2\n",
    "    s=(p*(p-a)*(p-b)*(p-c))**0.5\n",
    "    print(f\"dien tich: {s:.2f}\")\n",
    "else:\n",
    "    print(\"khong phai 3 canh cua tam giac\")"
   ]
  },
  {
   "cell_type": "code",
   "execution_count": null,
   "id": "99ec25e6",
   "metadata": {},
   "outputs": [
    {
     "name": "stdout",
     "output_type": "stream",
     "text": [
      "5 va 9\n"
     ]
    }
   ],
   "source": [
    "#7\n",
    "string=str(input())\n",
    "if len(string)<20:\n",
    "    print(f\"thu 5: {string[4]}; thu 9: {string[8]}\")\n",
    "else:\n",
    "    print(\"chuoi phai dai hon 20 ki tu\")"
   ]
  },
  {
   "cell_type": "code",
   "execution_count": null,
   "id": "ddc2a34c",
   "metadata": {},
   "outputs": [
    {
     "name": "stdout",
     "output_type": "stream",
     "text": [
      "Ho va ten:  van a\n",
      "Tien phai tra la:  1201565\n"
     ]
    }
   ],
   "source": [
    "#8\n",
    "\n",
    "ten=str(input(\"Ten chu ho: \"))\n",
    "thangtrc=int(input(\"Chi so thang truoc: \"))\n",
    "thangsau=int(input(\"Chi so thang sau: \"))\n",
    "n=thangsau-thangtrc\n",
    "if n<=50:\n",
    "    tiendien=1984*n\n",
    "    print(\"Ho va ten:\", ten)\n",
    "    print(\"Tien phai tra la:\", round(tiendien*1.08))\n",
    "elif n<=100:\n",
    "    tiendien=1984*50+2050*(n-50)\n",
    "    print(\"Ho va ten:\", ten)\n",
    "    print(\"Tien phai tra la:\", round(tiendien*1.08))\n",
    "elif n<=200:\n",
    "    tiendien=1984*50+2050*50+2380*(n-100)\n",
    "    print(\"Ho va ten:\", ten)\n",
    "    print(\"Tien phai tra la:\", round(tiendien*1.08))\n",
    "elif n<=300:\n",
    "    tiendien=1984*50+2050*50+2380*100+2998*(n-200)\n",
    "    print(\"Ho va ten:\", ten)\n",
    "    print(\"Tien phai tra la:\", round(tiendien*1.08))\n",
    "elif n<=400:\n",
    "    tiendien=1984*50+2050*50+2380*100+2998*100+3350*(n-300)\n",
    "    print(\"Ho va ten:\", ten)\n",
    "    print(\"Tien phai tra la:\", round(tiendien*1.08))\n",
    "else:\n",
    "    tiendien=1984*50+2050*50+2380*100+2998*100+3350*100+3460*(n-400)\n",
    "    print(\"Ho va ten:\", ten)\n",
    "    print(\"Tien phai tra la:\", round(tiendien*1.08))"
   ]
  },
  {
   "cell_type": "code",
   "execution_count": 35,
   "id": "25cc4a08",
   "metadata": {},
   "outputs": [
    {
     "name": "stdout",
     "output_type": "stream",
     "text": [
      "3 la so le\n"
     ]
    }
   ],
   "source": [
    "#Them 1\n",
    "\n",
    "a=int(input())\n",
    "if a%2==0:\n",
    "    print(f\"{a} la so chan\")\n",
    "else:\n",
    "    print(f\"{a} la so le\")"
   ]
  },
  {
   "cell_type": "code",
   "execution_count": null,
   "id": "cfb89a35",
   "metadata": {},
   "outputs": [
    {
     "name": "stdout",
     "output_type": "stream",
     "text": [
      "True\n"
     ]
    }
   ],
   "source": [
    "#Them 2\n",
    "\n",
    "a=int(input())\n",
    "if a%10==5:\n",
    "    print(\"True\")\n",
    "else:\n",
    "    print(\"False\")"
   ]
  },
  {
   "cell_type": "code",
   "execution_count": 40,
   "id": "200de699",
   "metadata": {},
   "outputs": [
    {
     "name": "stdout",
     "output_type": "stream",
     "text": [
      "False\n"
     ]
    }
   ],
   "source": [
    "#Them 3\n",
    "\n",
    "a=int(input())\n",
    "if a%15==0:\n",
    "    print(\"True\")\n",
    "else:\n",
    "    print(\"False\")"
   ]
  },
  {
   "cell_type": "code",
   "execution_count": 41,
   "id": "de5ca112",
   "metadata": {},
   "outputs": [
    {
     "name": "stdout",
     "output_type": "stream",
     "text": [
      "du tuoi\n"
     ]
    }
   ],
   "source": [
    "#Them 4\n",
    "\n",
    "a=int(input())\n",
    "if a>=18:\n",
    "    print(\"du tuoi\")\n",
    "else:\n",
    "    print(\"chua du tuoi\")"
   ]
  },
  {
   "cell_type": "code",
   "execution_count": 44,
   "id": "ed989a3d",
   "metadata": {},
   "outputs": [
    {
     "name": "stdout",
     "output_type": "stream",
     "text": [
      "bang nhau\n"
     ]
    }
   ],
   "source": [
    "#Them 5\n",
    "\n",
    "a=int(input())\n",
    "b=int(input())\n",
    "if a<b:\n",
    "    print(b)\n",
    "elif a>b:\n",
    "    print(a)\n",
    "else:\n",
    "    print(\"bang nhau\")"
   ]
  },
  {
   "cell_type": "code",
   "execution_count": 52,
   "id": "9bfc28a7",
   "metadata": {},
   "outputs": [
    {
     "name": "stdout",
     "output_type": "stream",
     "text": [
      "nhap 1 ki tu\n"
     ]
    }
   ],
   "source": [
    "#Them 6\n",
    "\n",
    "a=str(input())\n",
    "if a.isalpha() and len(a)==1:\n",
    "    print(\"chu\")\n",
    "elif a.isdigit() and len(a)==1:\n",
    "    print(\"so\")\n",
    "elif len(a)==1:\n",
    "    print(\"ki tu ko phai chu cung ko phai so\")\n",
    "else:\n",
    "    print(\"nhap 1 ki tu\")"
   ]
  },
  {
   "cell_type": "code",
   "execution_count": 55,
   "id": "91897ff5",
   "metadata": {},
   "outputs": [
    {
     "name": "stdout",
     "output_type": "stream",
     "text": [
      "Yeu\n"
     ]
    }
   ],
   "source": [
    "#Them 7\n",
    "\n",
    "a=float(input())\n",
    "if a>=8:\n",
    "    print(\"Gioi\")\n",
    "elif a>=6.5:\n",
    "    print(\"Kha\")\n",
    "elif a>=5:\n",
    "    print(\"Trung binh\")\n",
    "else:\n",
    "    print(\"Yeu\")"
   ]
  },
  {
   "cell_type": "code",
   "execution_count": 58,
   "id": "264d9761",
   "metadata": {},
   "outputs": [
    {
     "name": "stdout",
     "output_type": "stream",
     "text": [
      "Khong phai nam nhuan\n"
     ]
    }
   ],
   "source": [
    "#Them 8\n",
    "\n",
    "a=int(input())\n",
    "if a%400==0 or (a%4==0 and a%100!=0):\n",
    "    print(\"Nam nhuan\")\n",
    "else:\n",
    "    print(\"Khong phai nam nhuan\")"
   ]
  },
  {
   "cell_type": "code",
   "execution_count": null,
   "id": "04bec383",
   "metadata": {},
   "outputs": [
    {
     "name": "stdout",
     "output_type": "stream",
     "text": [
      "Bốn\n"
     ]
    }
   ],
   "source": [
    "#Them 9\n",
    "\n",
    "a = int(input())\n",
    "match a:\n",
    "    case 0:\n",
    "        print(\"Khong\")\n",
    "    case 1:\n",
    "        print(\"Mot\")\n",
    "    case 2:\n",
    "        print(\"Hai\")\n",
    "    case 3:\n",
    "        print(\"Ba\")\n",
    "    case 4:\n",
    "        print(\"Bon\")\n",
    "    case 5:\n",
    "        print(\"Nam\")\n",
    "    case 6:\n",
    "        print(\"Sau\")\n",
    "    case 7:\n",
    "        print(\"Bay\")\n",
    "    case 8:\n",
    "        print(\"Tam\")\n",
    "    case 9:\n",
    "        print(\"Chin\")\n",
    "    case _:\n",
    "        print(\"Nhap so tu 0 den 9\")"
   ]
  },
  {
   "cell_type": "code",
   "execution_count": 61,
   "id": "b3cdda55",
   "metadata": {},
   "outputs": [
    {
     "name": "stdout",
     "output_type": "stream",
     "text": [
      "Hoc lai\n"
     ]
    }
   ],
   "source": [
    "#Them 10\n",
    "\n",
    "a=float(input())\n",
    "if a>=4:\n",
    "    print(\"Qua mon\")\n",
    "else:\n",
    "    print(\"Hoc lai\")"
   ]
  },
  {
   "cell_type": "code",
   "execution_count": 63,
   "id": "e882d5f0",
   "metadata": {},
   "outputs": [
    {
     "name": "stdout",
     "output_type": "stream",
     "text": [
      "Chua du tuoi\n"
     ]
    }
   ],
   "source": [
    "#Them 11\n",
    "\n",
    "a=int(input())\n",
    "if (2025-a)>=18:\n",
    "    print(\"Du tuoi\")\n",
    "else:\n",
    "    print(\"Chua du tuoi\")"
   ]
  }
 ],
 "metadata": {
  "kernelspec": {
   "display_name": "Python 3",
   "language": "python",
   "name": "python3"
  },
  "language_info": {
   "codemirror_mode": {
    "name": "ipython",
    "version": 3
   },
   "file_extension": ".py",
   "mimetype": "text/x-python",
   "name": "python",
   "nbconvert_exporter": "python",
   "pygments_lexer": "ipython3",
   "version": "3.11.9"
  }
 },
 "nbformat": 4,
 "nbformat_minor": 5
}
