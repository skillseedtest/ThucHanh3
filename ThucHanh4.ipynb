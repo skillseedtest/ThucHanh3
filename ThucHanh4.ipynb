{
 "cells": [
  {
   "cell_type": "code",
   "execution_count": null,
   "id": "54083509",
   "metadata": {},
   "outputs": [],
   "source": [
    "#W4A1\n",
    "\n",
    "n=int(input())\n",
    "sum=0\n",
    "for i in range(1,n+1):\n",
    "    sum+=i\n",
    "print(sum)"
   ]
  },
  {
   "cell_type": "code",
   "execution_count": null,
   "id": "28a276da",
   "metadata": {},
   "outputs": [],
   "source": [
    "#W4A2\n",
    "\n",
    "n=int(input())\n",
    "while n<=0:\n",
    "    n=int(input())\n",
    "if n>1:\n",
    "    for i in range(2,n):\n",
    "        if n%i==0:\n",
    "            print(False)\n",
    "            break\n",
    "    else:\n",
    "        print(True)"
   ]
  },
  {
   "cell_type": "code",
   "execution_count": null,
   "id": "1ddd5d1c",
   "metadata": {},
   "outputs": [],
   "source": [
    "#W4A3\n",
    "\n",
    "n=int(input())\n",
    "while 100<n or n<0:\n",
    "    n=int(input())\n",
    "fact=1\n",
    "for i in range(1,n+1):\n",
    "    fact=fact*i\n",
    "print(fact)"
   ]
  },
  {
   "cell_type": "code",
   "execution_count": null,
   "id": "5065be48",
   "metadata": {},
   "outputs": [],
   "source": [
    "#W4A4\n",
    "\n",
    "n=int(input())\n",
    "if n<0:\n",
    "    n=-n\n",
    "count=0\n",
    "if n==0:\n",
    "    count=1\n",
    "while n>0:\n",
    "    n=n//10\n",
    "    count+=1\n",
    "print(count)"
   ]
  },
  {
   "cell_type": "code",
   "execution_count": null,
   "id": "f2a22c9d",
   "metadata": {},
   "outputs": [],
   "source": [
    "#W4A5\n",
    "\n",
    "n=int(input())\n",
    "nl=list(map(int,input().split()))\n",
    "if 42 in nl and len(nl)==n:\n",
    "    print(\"I've found the meaning of life!\")\n",
    "elif len(nl)==n:\n",
    "    print(\"It's a joke!\")\n",
    "else:\n",
    "    print(f\"Invalid, enter exactly {n} numbers\")"
   ]
  },
  {
   "cell_type": "code",
   "execution_count": null,
   "id": "a011dcb8",
   "metadata": {},
   "outputs": [],
   "source": [
    "#W4A6\n",
    "\n",
    "def nto(n):\n",
    "    if n<2:\n",
    "        return False\n",
    "    for i in range(2,int(n**0.5)+1):\n",
    "        if n%i==0:\n",
    "            return False\n",
    "    return True\n",
    "\n",
    "while True:\n",
    "    try:\n",
    "        a,b=map(int,input().split())\n",
    "        s=0\n",
    "        for i in range(a,b+1):\n",
    "            if nto(i):\n",
    "                s+=i\n",
    "        print(s)\n",
    "    except:\n",
    "        break"
   ]
  },
  {
   "cell_type": "code",
   "execution_count": null,
   "id": "1146455a",
   "metadata": {},
   "outputs": [],
   "source": [
    "#W4A7\n",
    "\n",
    "n=int(input())\n",
    "def nto(n):\n",
    "    if n<2:\n",
    "        return False\n",
    "    for i in range(2,int(n**0.5)+1):\n",
    "        if n%i==0:\n",
    "            return False\n",
    "    return True\n",
    "\n",
    "for i in range(n,1,-1):\n",
    "    if n%i==0 and nto(i):\n",
    "        print(i)\n",
    "        break\n"
   ]
  },
  {
   "cell_type": "code",
   "execution_count": null,
   "id": "ef8961e6",
   "metadata": {},
   "outputs": [],
   "source": [
    "#W4A8\n",
    "\n",
    "n=int(input())\n",
    "def pal(n):\n",
    "    s=str(n)\n",
    "    if s==s[::-1]:\n",
    "        return True\n",
    "    return False\n",
    "step=0\n",
    "while not pal(n):\n",
    "    n=n+int(str(n)[::-1])\n",
    "    step+=1\n",
    "print(step, n)"
   ]
  },
  {
   "cell_type": "code",
   "execution_count": null,
   "id": "ce7a77d1",
   "metadata": {},
   "outputs": [],
   "source": [
    "#W4A9\n",
    "\n",
    "n=int(input())\n",
    "i=1\n",
    "r=[]\n",
    "while i*i<=n:\n",
    "    s=str(i*i)\n",
    "    if len(s)==len(set(s)):\n",
    "        r.append(s)\n",
    "    i+=1\n",
    "\n",
    "if r:\n",
    "    print(\" \".join(r))\n",
    "else:\n",
    "    print(\"no number\")\n"
   ]
  },
  {
   "cell_type": "code",
   "execution_count": null,
   "id": "74921099",
   "metadata": {},
   "outputs": [],
   "source": [
    "#W4A10\n",
    "\n",
    "n=int(input())\n",
    "def collatzlen(x):\n",
    "    len=1\n",
    "    while x!=1:\n",
    "        if x%2==0:\n",
    "            x=x//2\n",
    "        else:\n",
    "            x=3*x+1\n",
    "        len+=1\n",
    "    return len\n",
    "\n",
    "maxlen=0\n",
    "so=0\n",
    "for i in range(1,n):\n",
    "    l=collatzlen(i)\n",
    "    if l>maxlen:\n",
    "        maxlen=l\n",
    "        so=i\n",
    "print(so,maxlen)"
   ]
  },
  {
   "cell_type": "code",
   "execution_count": null,
   "id": "05a04222",
   "metadata": {},
   "outputs": [],
   "source": [
    "#W4A11\n",
    "\n",
    "n=int(input())\n",
    "count=0\n",
    "for i in range(2,n+1,2):\n",
    "    if n%i==0:\n",
    "        count+=1\n",
    "print(count)"
   ]
  },
  {
   "cell_type": "code",
   "execution_count": null,
   "id": "e712266d",
   "metadata": {},
   "outputs": [],
   "source": [
    "#W4A12\n",
    "\n",
    "a,b=map(int,input().split())\n",
    "for i in range(b):\n",
    "    a=a+a*0.007\n",
    "print(int(a))\n"
   ]
  },
  {
   "cell_type": "code",
   "execution_count": null,
   "id": "3a34285b",
   "metadata": {},
   "outputs": [],
   "source": [
    "#W4A13\n",
    "\n",
    "a,b=map(int,input().split())\n",
    "\n",
    "def tong(n):\n",
    "    s=0\n",
    "    for i in range(1,n):\n",
    "        if n%i==0:\n",
    "            s+=i\n",
    "    return s\n",
    "\n",
    "if tong(a)==b and tong(b)==a:\n",
    "    print(\"true\")\n",
    "else:\n",
    "    print(\"false\")"
   ]
  },
  {
   "cell_type": "code",
   "execution_count": null,
   "id": "a6ab5c58",
   "metadata": {},
   "outputs": [],
   "source": [
    "#W4A14\n",
    "\n",
    "m,n=map(int,input().split())\n",
    "\n",
    "def uoc(n):\n",
    "    uoc=[]\n",
    "    for i in range(1,n+1):\n",
    "        if n%i==0:\n",
    "            uoc.append(i)\n",
    "    return uoc\n",
    "\n",
    "uocm=uoc(m)\n",
    "uocn=uoc(n)\n",
    "uocmn=[]\n",
    "for i in uocm:\n",
    "    if i in uocn:\n",
    "        uocmn.append(i)\n",
    "print(max(uocmn))"
   ]
  },
  {
   "cell_type": "code",
   "execution_count": null,
   "id": "73d11595",
   "metadata": {},
   "outputs": [],
   "source": [
    "#W4A15\n",
    "m,n=map(int,input().split())\n",
    "\n",
    "timdc=False\n",
    "for ga in range(m+1):\n",
    "    cho=m-ga\n",
    "    if 2*ga+4*cho==n:\n",
    "        print(ga,cho)\n",
    "        timdc=True\n",
    "        break\n",
    "if not timdc:\n",
    "    print(\"invalid\")"
   ]
  },
  {
   "cell_type": "code",
   "execution_count": null,
   "id": "1edd75ca",
   "metadata": {},
   "outputs": [],
   "source": [
    "#W4A16\n",
    "\n",
    "chiahet3=[]\n",
    "for i in range(1,101):\n",
    "    if i%3==0:\n",
    "        chiahet3.append(str(i))\n",
    "print(\" \".join(chiahet3))"
   ]
  },
  {
   "cell_type": "code",
   "execution_count": null,
   "id": "99f82518",
   "metadata": {},
   "outputs": [],
   "source": [
    "#W4A17\n",
    "\n",
    "a=int(input())\n",
    "for i in range(1,10):\n",
    "    print(f\"{a} x {i} = {a*i}\")"
   ]
  },
  {
   "cell_type": "code",
   "execution_count": null,
   "id": "9f65bb34",
   "metadata": {},
   "outputs": [],
   "source": [
    "#W4A18\n",
    "\n",
    "m,n=map(int,input().split())\n",
    "\n",
    "def uoc(n):\n",
    "    uoc=[]\n",
    "    for i in range(1,n+1):\n",
    "        if n%i==0:\n",
    "            uoc.append(i)\n",
    "    return uoc\n",
    "\n",
    "uocm=uoc(m)\n",
    "uocn=uoc(n)\n",
    "uocmn=[]\n",
    "for i in uocm:\n",
    "    if i in uocn:\n",
    "        uocmn.append(i)\n",
    "print(\" \".join(map(str,uocmn)))"
   ]
  },
  {
   "cell_type": "code",
   "execution_count": null,
   "id": "75f96781",
   "metadata": {},
   "outputs": [],
   "source": [
    "#W4A19\n",
    "\n",
    "n=int(input())\n",
    "while 1000<n:\n",
    "     n=int(input())\n",
    "chan=[]\n",
    "for i in range(1,n+1):\n",
    "    if i%2==0:\n",
    "        chan.append(str(i))\n",
    "print(\" \".join(chan))"
   ]
  },
  {
   "cell_type": "code",
   "execution_count": null,
   "id": "caa35eec",
   "metadata": {},
   "outputs": [],
   "source": [
    "#W4A20\n",
    "\n",
    "n=int(input())\n",
    "while n<=0:\n",
    "    n=int(input())\n",
    "def la2k(x):\n",
    "    while x % 2 == 0:\n",
    "        x //= 2\n",
    "    return x == 1\n",
    "print(la2k(n))\n"
   ]
  },
  {
   "cell_type": "code",
   "execution_count": null,
   "id": "f670f677",
   "metadata": {},
   "outputs": [],
   "source": [
    "#W4A21\n",
    "\n",
    "n=int(input())\n",
    "s=str(n)\n",
    "tong=0\n",
    "for i in s:\n",
    "    tong+=int(i)\n",
    "print(tong)"
   ]
  },
  {
   "cell_type": "code",
   "execution_count": null,
   "id": "0d5cd251",
   "metadata": {},
   "outputs": [],
   "source": [
    "#W4A22\n",
    "\n",
    "n=int(input())\n",
    "s=str(n)\n",
    "le=0\n",
    "chan=0\n",
    "for i in s:\n",
    "    if int(i)%2==0:\n",
    "        chan+=1\n",
    "    else:\n",
    "        le+=1\n",
    "print(chan,le)"
   ]
  },
  {
   "cell_type": "code",
   "execution_count": null,
   "id": "d6acb8f8",
   "metadata": {},
   "outputs": [],
   "source": [
    "#W4A23\n",
    "\n",
    "n=int(input())\n",
    "s=0\n",
    "\n",
    "for i in range(1,n):\n",
    "    s+=i\n",
    "    if s>=n:\n",
    "        print(i-1)\n",
    "        break"
   ]
  },
  {
   "cell_type": "code",
   "execution_count": null,
   "id": "c9a9b4cd",
   "metadata": {},
   "outputs": [],
   "source": [
    "#W4A24\n",
    "\n",
    "n=float(input())\n",
    "s=0\n",
    "i=1\n",
    "while True:\n",
    "    s+=1.0/i\n",
    "    if s>n:\n",
    "        print(i)\n",
    "        break\n",
    "    i+=1"
   ]
  },
  {
   "cell_type": "code",
   "execution_count": null,
   "id": "ac6775a2",
   "metadata": {},
   "outputs": [],
   "source": [
    "#W4A25\n",
    "\n",
    "max_num = None\n",
    "min_num = None\n",
    "while True:\n",
    "    num = int(input())\n",
    "    if num == -1:\n",
    "        break\n",
    "    if max_num is None or num > max_num:\n",
    "        max_num = num\n",
    "    if min_num is None or num < min_num:\n",
    "        min_num = num\n",
    "print(\"Max:\", max_num)\n",
    "print(\"Min:\", min_num)"
   ]
  },
  {
   "cell_type": "code",
   "execution_count": null,
   "id": "7e1e7900",
   "metadata": {},
   "outputs": [],
   "source": [
    "#W4A26\n",
    "\n",
    "def fib(n):\n",
    "    a, b = 0, 1\n",
    "    for _ in range(n):\n",
    "        a, b = b, a + b\n",
    "    return a\n",
    "\n",
    "n=int(input())\n",
    "i=0\n",
    "while True:\n",
    "    if fib(i)>n:\n",
    "        print(fib(i-1))\n",
    "        break\n",
    "    i+=1"
   ]
  },
  {
   "cell_type": "code",
   "execution_count": null,
   "id": "e1cac4f6",
   "metadata": {},
   "outputs": [],
   "source": [
    "#W4A27\n",
    "\n",
    "s=input().strip()\n",
    "count=0\n",
    "for i, ch in enumerate(s):\n",
    "    if i == 0:\n",
    "        if ch != ' ':\n",
    "            count += 1\n",
    "    else:\n",
    "        if ch != ' ' and s[i-1] == ' ':\n",
    "            count += 1\n",
    "print(count)"
   ]
  },
  {
   "cell_type": "code",
   "execution_count": null,
   "id": "72968679",
   "metadata": {},
   "outputs": [],
   "source": [
    "#W4A28\n",
    "\n",
    "s=input().strip()\n",
    "\n",
    "for i in range(len(s)):\n",
    "    if s[i]==' ':\n",
    "        print(s[:i])\n",
    "        break\n",
    "else:\n",
    "    print(s)\n"
   ]
  },
  {
   "cell_type": "code",
   "execution_count": null,
   "id": "c90ab1b3",
   "metadata": {},
   "outputs": [],
   "source": [
    "#W4A29\n",
    "\n",
    "a,b,c=map(int,input().split(\", \"))\n",
    "print(a+b+c)"
   ]
  },
  {
   "cell_type": "code",
   "execution_count": null,
   "id": "8877f7cd",
   "metadata": {},
   "outputs": [],
   "source": [
    "#W4A30\n",
    "\n",
    "s=input().strip()\n",
    "upper=0\n",
    "lower=0\n",
    "digit=0\n",
    "for i in s:\n",
    "    if i.isupper():\n",
    "        upper+=1\n",
    "    elif i.islower():\n",
    "        lower+=1\n",
    "    elif i.isdigit():\n",
    "        digit+=1\n",
    "print(upper,lower,digit)"
   ]
  },
  {
   "cell_type": "code",
   "execution_count": null,
   "id": "76282a33",
   "metadata": {},
   "outputs": [],
   "source": [
    "#W4A31\n",
    "\n",
    "s=input().strip()\n",
    "tong=0\n",
    "for i in s:\n",
    "    if i.isdigit():\n",
    "        tong+=int(i)\n",
    "print(tong)"
   ]
  },
  {
   "cell_type": "code",
   "execution_count": null,
   "id": "4422781b",
   "metadata": {},
   "outputs": [],
   "source": [
    "#W4A32\n",
    "\n",
    "s=input().strip()\n",
    "ktdb = \"!@#$%^&*()-+\"\n",
    "has_upper = any(c.isupper() for c in s)\n",
    "has_lower = any(c.islower() for c in s)\n",
    "has_digit = any(c.isdigit() for c in s)\n",
    "has_ktdb = any(c in ktdb for c in s)\n",
    "is_strong = has_upper and has_lower and has_digit and ktdb and len(s) > 6\n",
    "print(is_strong)"
   ]
  },
  {
   "cell_type": "code",
   "execution_count": null,
   "id": "a37aab7e",
   "metadata": {},
   "outputs": [],
   "source": [
    "#W4A33\n",
    "\n",
    "n=int(input())\n",
    "s=str(n)[::-1]\n",
    "scocham=\"\"\n",
    "for i in range(len(s)):\n",
    "    if i>0 and i%3==0:\n",
    "        scocham+=\".\"\n",
    "    scocham+=s[i]\n",
    "print(scocham[::-1])"
   ]
  },
  {
   "cell_type": "code",
   "execution_count": null,
   "id": "e0268e19",
   "metadata": {},
   "outputs": [],
   "source": [
    "#W4A34\n",
    "\n",
    "a=input().strip()\n",
    "b=input().strip()\n",
    "index=a.find(b)\n",
    "if index!=-1:\n",
    "    a=a[:index]+a[index+len(b):]\n",
    "print(a)"
   ]
  }
 ],
 "metadata": {
  "kernelspec": {
   "display_name": "Python 3",
   "language": "python",
   "name": "python3"
  },
  "language_info": {
   "codemirror_mode": {
    "name": "ipython",
    "version": 3
   },
   "file_extension": ".py",
   "mimetype": "text/x-python",
   "name": "python",
   "nbconvert_exporter": "python",
   "pygments_lexer": "ipython3",
   "version": "3.11.9"
  }
 },
 "nbformat": 4,
 "nbformat_minor": 5
}
