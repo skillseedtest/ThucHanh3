{
 "cells": [
  {
   "cell_type": "code",
   "execution_count": 2,
   "id": "f185fc3e",
   "metadata": {},
   "outputs": [
    {
     "name": "stdout",
     "output_type": "stream",
     "text": [
      "Hello World!\n"
     ]
    }
   ],
   "source": [
    "# W2A1\n",
    "print(\"Hello World!\")"
   ]
  },
  {
   "cell_type": "code",
   "execution_count": 3,
   "id": "05efcd8b",
   "metadata": {},
   "outputs": [
    {
     "name": "stdout",
     "output_type": "stream",
     "text": [
      "Hello h\n"
     ]
    }
   ],
   "source": [
    "# W2A2\n",
    "print(\"Hello \" + input(\"Enter your name: \"))"
   ]
  },
  {
   "cell_type": "code",
   "execution_count": null,
   "id": "8b822065",
   "metadata": {},
   "outputs": [
    {
     "name": "stdout",
     "output_type": "stream",
     "text": [
      "Tổng: 59\n",
      "Hiệu: -53\n",
      "Tích: 168\n",
      "Phần nguyên: 0\n",
      "Phần dư: 3\n",
      "Chia thực: 0.05\n"
     ]
    }
   ],
   "source": [
    "# W2A3\n",
    "a = int(input(\"Enter first number: \"))\n",
    "b = int(input(\"Enter second number: \"))\n",
    "tong = a + b\n",
    "if a > b:\n",
    "    hieu = a - b\n",
    "else:\n",
    "    hieu = b - a\n",
    "tich = a * b\n",
    "phan_nguyen = a // b\n",
    "phan_du = a % b\n",
    "chia_thuc = round(a / b,2)\n",
    "print(f\"Tổng: {tong}\")\n",
    "print(f\"Hiệu: {hieu}\")\n",
    "print(f\"Tích: {tich}\")\n",
    "print(f\"Phần nguyên: {phan_nguyen}\")\n",
    "print(f\"Phần dư: {phan_du}\")\n",
    "print(f\"Chia thực: {chia_thuc}\")\n"
   ]
  },
  {
   "cell_type": "code",
   "execution_count": 1,
   "id": "a7c5adaa",
   "metadata": {},
   "outputs": [
    {
     "name": "stdout",
     "output_type": "stream",
     "text": [
      "Trung bình: 4.2\n"
     ]
    }
   ],
   "source": [
    "#W2A4\n",
    "\n",
    "a1, b1, c1, a2, b2, a3 = map(float, input().split())\n",
    "tb = round(((a1 + b1 + c1) + (a2 + b2) * 2 + a3 * 3) / 10, 1)\n",
    "print(f\"Trung bình: {tb}\")"
   ]
  },
  {
   "cell_type": "code",
   "execution_count": 10,
   "id": "42583515",
   "metadata": {},
   "outputs": [
    {
     "name": "stdout",
     "output_type": "stream",
     "text": [
      "a mũ b bằng 1024\n"
     ]
    }
   ],
   "source": [
    "# W2A5\n",
    "\n",
    "a , b = map(int, input().split())\n",
    "print(f\"a mũ b bằng {a**b}\")"
   ]
  },
  {
   "cell_type": "code",
   "execution_count": 14,
   "id": "09335257",
   "metadata": {},
   "outputs": [
    {
     "name": "stdout",
     "output_type": "stream",
     "text": [
      "Mã Unicode: 104\n",
      "In hoa: H\n"
     ]
    }
   ],
   "source": [
    "# W2A6\n",
    "\n",
    "char = input(\"Nhập 1 ký tự: \")\n",
    "print(f\"Mã Unicode: {ord(char)}\")\n",
    "upper = char.upper()\n",
    "print(f\"In hoa: {upper}\")"
   ]
  },
  {
   "cell_type": "code",
   "execution_count": 15,
   "id": "316fca82",
   "metadata": {},
   "outputs": [
    {
     "name": "stdout",
     "output_type": "stream",
     "text": [
      "A =  512\n",
      "B =  512\n"
     ]
    }
   ],
   "source": [
    "#W2A7\n",
    "\n",
    "print(\"A = \", ((13**2)*3)+5)\n",
    "print(\"B = \", 13**2*3+5)"
   ]
  },
  {
   "cell_type": "code",
   "execution_count": 16,
   "id": "aca80c06",
   "metadata": {},
   "outputs": [
    {
     "name": "stdout",
     "output_type": "stream",
     "text": [
      "Nhiệt độ F: 93.2\n"
     ]
    }
   ],
   "source": [
    "#W2A8\n",
    "\n",
    "c = float(input(\"Nhập nhiệt độ C: \"))\n",
    "f = round((c * 9/5) + 32, 1)\n",
    "print(f\"Nhiệt độ F: {f}\")"
   ]
  },
  {
   "cell_type": "code",
   "execution_count": 17,
   "id": "807ff60e",
   "metadata": {},
   "outputs": [
    {
     "name": "stdout",
     "output_type": "stream",
     "text": [
      "Giá cuối cùng: 493.0 USD\n"
     ]
    }
   ],
   "source": [
    "#W2A9\n",
    "\n",
    "x = int(input(\"Nhập giá đồng hồ (USD): \"))\n",
    "final = round(x*1.4 + 10, 2)\n",
    "print(f\"Giá cuối cùng: {final} USD\")"
   ]
  },
  {
   "cell_type": "code",
   "execution_count": 18,
   "id": "0461b91a",
   "metadata": {},
   "outputs": [
    {
     "name": "stdout",
     "output_type": "stream",
     "text": [
      "Hi sgsuia, alive and bob.\n"
     ]
    }
   ],
   "source": [
    "#W2A10\n",
    "\n",
    "a, b, c = map(str, input(\"Nhập tên 3 người (cách nhau bởi dấu cách): \").split())\n",
    "print(f\"Hi {c}, {b} and {a}.\")"
   ]
  },
  {
   "cell_type": "code",
   "execution_count": 19,
   "id": "521a0784",
   "metadata": {},
   "outputs": [
    {
     "name": "stdout",
     "output_type": "stream",
     "text": [
      "Tổng số giây: 12240\n"
     ]
    }
   ],
   "source": [
    "#W2A11\n",
    "\n",
    "gio = int(input(\"Nhập số giờ: \"))\n",
    "phut = int(input(\"Nhập số phút: \"))\n",
    "giay = gio*3600 + phut*60\n",
    "print(f\"Tổng số giây: {giay}\")"
   ]
  },
  {
   "cell_type": "code",
   "execution_count": 22,
   "id": "d9f81a45",
   "metadata": {},
   "outputs": [
    {
     "name": "stdout",
     "output_type": "stream",
     "text": [
      "Tổng số miếng dán cần thiết: 6\n"
     ]
    }
   ],
   "source": [
    "#W2A12\n",
    "\n",
    "mat = int(input(\"Nhập độ dài cạnh: \"))\n",
    "tong = mat**2*6\n",
    "print(f\"Tổng số miếng dán cần thiết: {tong}\")"
   ]
  },
  {
   "cell_type": "code",
   "execution_count": 24,
   "id": "3f9f0148",
   "metadata": {},
   "outputs": [
    {
     "name": "stdout",
     "output_type": "stream",
     "text": [
      "Hàng đơn vị phép a/b = 1\n"
     ]
    }
   ],
   "source": [
    "#W2A13\n",
    "\n",
    "a = int(input(\"Nhập số a: \"))\n",
    "b = int(input(\"Nhập số b: \"))\n",
    "print(f\"Hàng đơn vị phép a/b = {a//b % 10}\")"
   ]
  },
  {
   "cell_type": "code",
   "execution_count": 25,
   "id": "ae76750e",
   "metadata": {},
   "outputs": [
    {
     "name": "stdout",
     "output_type": "stream",
     "text": [
      "Sau khi hoán đổi: a = 43, b = 34\n"
     ]
    }
   ],
   "source": [
    "#W2A14\n",
    "\n",
    "a = int(input(\"Nhập số a: \"))\n",
    "b = int(input(\"Nhập số b: \"))\n",
    "a,b=b,a\n",
    "print(f\"Sau khi hoán đổi: a = {a}, b = {b}\")\n",
    "\n"
   ]
  },
  {
   "cell_type": "code",
   "execution_count": 28,
   "id": "ef1a0918",
   "metadata": {},
   "outputs": [
    {
     "name": "stdout",
     "output_type": "stream",
     "text": [
      "Số sao thứ 4 là: 73\n"
     ]
    }
   ],
   "source": [
    "#W2A15\n",
    "\n",
    "n = int(input(\"Nhập số n: \"))\n",
    "so_sao = 6*n*(n-1) + 1\n",
    "print(f\"Số sao thứ {n} là: {so_sao}\")"
   ]
  },
  {
   "cell_type": "code",
   "execution_count": 30,
   "id": "fd081bd6",
   "metadata": {},
   "outputs": [
    {
     "name": "stdout",
     "output_type": "stream",
     "text": [
      "Spring\n",
      "Summer\n",
      "Autumn\n",
      "Winter\n"
     ]
    }
   ],
   "source": [
    "#W2A16\n",
    "\n",
    "for mua in [\"Spring\", \"Summer\", \"Autumn\", \"Winter\"]:\n",
    "    print(mua)"
   ]
  },
  {
   "cell_type": "code",
   "execution_count": 33,
   "id": "794bcd7b",
   "metadata": {},
   "outputs": [
    {
     "name": "stdout",
     "output_type": "stream",
     "text": [
      "  *\n",
      " ***\n",
      "*****\n"
     ]
    }
   ],
   "source": [
    "#W2A17\n",
    "\n",
    "for i in range(1,4):\n",
    "    print(\" \"*(3-i)+\"*\"*(2*i-1))\n"
   ]
  },
  {
   "cell_type": "code",
   "execution_count": 6,
   "id": "262da99a",
   "metadata": {},
   "outputs": [
    {
     "name": "stdout",
     "output_type": "stream",
     "text": [
      "### # #  ### ###\n",
      " #  #  #  #   # \n",
      " #  #   # #   # \n",
      " #  #  #  #   # \n",
      " #  # #   #   # \n",
      "\n",
      "### # #  ### ###\n",
      " #  #  #  #   # \n",
      " #  #   # #   # \n",
      " #  #  #  #   # \n",
      " #  # #   #   # \n",
      "\n"
     ]
    }
   ],
   "source": [
    "#W2A18\n",
    "print(\"### # #  ### ###\")\n",
    "print(\" #  #  #  #   # \")\n",
    "print(\" #  #   # #   # \")\n",
    "print(\" #  #  #  #   # \")\n",
    "print(\" #  # #   #   # \")\n",
    "\n",
    "print(\"\"\"\n",
    "### # #  ### ###\n",
    " #  #  #  #   # \n",
    " #  #   # #   # \n",
    " #  #  #  #   # \n",
    " #  # #   #   # \n",
    "\"\"\")\n",
    "    "
   ]
  },
  {
   "cell_type": "code",
   "execution_count": 37,
   "id": "6b5b0fdb",
   "metadata": {},
   "outputs": [
    {
     "name": "stdout",
     "output_type": "stream",
     "text": [
      "Monday\n",
      "Tuesday\n",
      "Wednesday\n",
      "Thursday\n",
      "Friday\n",
      "Saturday\n",
      "Sunday\n"
     ]
    }
   ],
   "source": [
    "#W2A19\n",
    "\n",
    "for ngay in [\"Monday\", \"Tuesday\", \"Wednesday\", \"Thursday\", \"Friday\", \"Saturday\", \"Sunday\"]:\n",
    "    print(ngay)"
   ]
  },
  {
   "cell_type": "code",
   "execution_count": 38,
   "id": "a0564456",
   "metadata": {},
   "outputs": [
    {
     "name": "stdout",
     "output_type": "stream",
     "text": [
      "January\n",
      "February\n",
      "March\n",
      "April\n",
      "May\n",
      "June\n",
      "July\n",
      "August\n",
      "September\n",
      "October\n",
      "November\n",
      "December\n"
     ]
    }
   ],
   "source": [
    "#W2A20\n",
    "\n",
    "for thang in [\"January\", \"February\", \"March\", \"April\", \"May\", \"June\", \"July\", \"August\", \"September\", \"October\", \"November\", \"December\"]:\n",
    "    print(thang)"
   ]
  },
  {
   "cell_type": "code",
   "execution_count": 39,
   "id": "20ffdb2f",
   "metadata": {},
   "outputs": [
    {
     "name": "stdout",
     "output_type": "stream",
     "text": [
      "Hello, world\n",
      "Hello, world\n",
      "Hello, world\n",
      "Hello, world\n",
      "Hello, world\n",
      "Hello, world\n",
      "Hello, world\n",
      "Hello, world\n",
      "Hello, world\n",
      "Hello, world\n"
     ]
    }
   ],
   "source": [
    "#W2A21\n",
    "\n",
    "for i in range(1, 11):\n",
    "    print(\"Hello, world\")"
   ]
  }
 ],
 "metadata": {
  "kernelspec": {
   "display_name": "Python 3",
   "language": "python",
   "name": "python3"
  },
  "language_info": {
   "codemirror_mode": {
    "name": "ipython",
    "version": 3
   },
   "file_extension": ".py",
   "mimetype": "text/x-python",
   "name": "python",
   "nbconvert_exporter": "python",
   "pygments_lexer": "ipython3",
   "version": "3.11.9"
  }
 },
 "nbformat": 4,
 "nbformat_minor": 5
}
